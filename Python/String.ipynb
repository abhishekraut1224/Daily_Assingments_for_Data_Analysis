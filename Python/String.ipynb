{
 "cells": [
  {
   "cell_type": "code",
   "execution_count": 1,
   "id": "9d8fa73b",
   "metadata": {},
   "outputs": [
    {
     "name": "stdout",
     "output_type": "stream",
     "text": [
      "Enter your stringhi my name is Abhshek\n",
      "This is the string you entered hi my name is Abhshek\n",
      "The reversed string is:-->  kehshbA si eman ym ih\n"
     ]
    }
   ],
   "source": [
    "# Write a program to reverse a string.\n",
    "string = input(\"Enter your string\")\n",
    "print(\"This is the string you entered\", string)\n",
    "print(\"The reversed string is:--> \", string[::-1])"
   ]
  },
  {
   "cell_type": "code",
   "execution_count": 3,
   "id": "f3261e20",
   "metadata": {},
   "outputs": [
    {
     "name": "stdout",
     "output_type": "stream",
     "text": [
      "Enter your stringabhi\n",
      "The word you entered is not palandrome abhi\n"
     ]
    }
   ],
   "source": [
    "#2. Check if a string is a palindrome.\n",
    "palandronme_word = input(\"Enter your string\")\n",
    "if (palandronme_word == palandronme_word[::-1]):\n",
    "    print(\"the word you entered is palandrome\", palandronme_word)\n",
    "else:\n",
    "    print(\"The word you entered is not palandrome\", palandronme_word)"
   ]
  },
  {
   "cell_type": "code",
   "execution_count": 5,
   "id": "7d28b9de",
   "metadata": {},
   "outputs": [
    {
     "name": "stdout",
     "output_type": "stream",
     "text": [
      "Enter your stringhi my name is \n",
      "string in upper case HI MY NAME IS \n"
     ]
    }
   ],
   "source": [
    "#3. Convert a string to uppercase.\n",
    "string = input(\"Enter your string\")\n",
    "print(\"string in upper case\",string.upper())\n"
   ]
  },
  {
   "cell_type": "code",
   "execution_count": 7,
   "id": "4beae11b",
   "metadata": {},
   "outputs": [
    {
     "name": "stdout",
     "output_type": "stream",
     "text": [
      "Enter your stringHI MY NAME\n",
      "string in upper case hi my name\n"
     ]
    }
   ],
   "source": [
    "#4. Convert a string to lowercase.\n",
    "string = input(\"Enter your string\")\n",
    "print(\"string in upper case\",string.lower())\n"
   ]
  },
  {
   "cell_type": "code",
   "execution_count": 9,
   "id": "adb8833a",
   "metadata": {},
   "outputs": [
    {
     "name": "stdout",
     "output_type": "stream",
     "text": [
      "Enter your stringmy name is bhishek\n",
      "vowels in the string are 5\n"
     ]
    }
   ],
   "source": [
    "#5. Count the number of vowels in a string.\n",
    "string = input(\"Enter your string\")\n",
    "count_vowels = string.count('a') + string.count('e') + string.count('i') + string.count('o') + string.count('u')\n",
    "print(\"vowels in the string are\", count_vowels)"
   ]
  },
  {
   "cell_type": "code",
   "execution_count": 13,
   "id": "f66e947c",
   "metadata": {},
   "outputs": [
    {
     "name": "stdout",
     "output_type": "stream",
     "text": [
      "Enter your string :- Abhishek is\n",
      "The consonants of the strings are 7 4\n"
     ]
    }
   ],
   "source": [
    "#6. Count the number of consonants in a string.\n",
    "string = input(\"Enter your string :- \")\n",
    "count_vowels = string.count('a') + string.count('e') + string.count('i') + string.count('o') + string.count('u') + string.count(\" \")\n",
    "no_of_consonants = len(string) - count_vowels\n",
    "print(\"The consonants of the strings are\", no_of_consonants)"
   ]
  },
  {
   "cell_type": "code",
   "execution_count": 15,
   "id": "38d02230",
   "metadata": {},
   "outputs": [
    {
     "name": "stdout",
     "output_type": "stream",
     "text": [
      "Enter your string :- hi my nameis sidiad    idijad\n",
      "The string without whitespaces is  himynameissidiadidijad\n"
     ]
    }
   ],
   "source": [
    "#7. Remove all whitespaces from a string.\n",
    "string = input(\"Enter your string :- \")\n",
    "string.replace(\" \", \"\")\n",
    "print(\"The string without whitespaces is \", string.replace(\" \", \"\"))\n"
   ]
  },
  {
   "cell_type": "code",
   "execution_count": 23,
   "id": "9bd9016d",
   "metadata": {},
   "outputs": [
    {
     "name": "stdout",
     "output_type": "stream",
     "text": [
      "Enter your string :- hi my name is Abhishek\n",
      "The lenth of the string is  22\n"
     ]
    }
   ],
   "source": [
    "#8. Find the length of a string without using the `len()` function.\n",
    "string = input(\"Enter your string :- \")\n",
    "count = 0\n",
    "for i in string:\n",
    "    count = count+1\n",
    "print(\"The lenth of the string is \", count)\n",
    "    "
   ]
  },
  {
   "cell_type": "code",
   "execution_count": 32,
   "id": "6f733690",
   "metadata": {},
   "outputs": [
    {
     "name": "stdout",
     "output_type": "stream",
     "text": [
      "Enter your string :- hi Ram\n",
      "your string has a specific word\n"
     ]
    }
   ],
   "source": [
    "#9. Check if a string contains a specific word.\n",
    "string = input(\"Enter your string :- \")\n",
    "specific_word = 'Ram'\n",
    "if specific_word in string:\n",
    "    print(\"your string has a specific word\")\n",
    "else:\n",
    "    print(\"There is no any specific word\")"
   ]
  },
  {
   "cell_type": "code",
   "execution_count": 37,
   "id": "134cc942",
   "metadata": {},
   "outputs": [
    {
     "name": "stdout",
     "output_type": "stream",
     "text": [
      "Enter your string :- hi i am ram\n",
      "Enter the word:- sham\n",
      "Your word is not in  string\n"
     ]
    }
   ],
   "source": [
    "#10. Replace a word in a string with another word.\n",
    "string = input(\"Enter your string :- \")\n",
    "word= input(\"Enter the word:- \")\n",
    "\n",
    "if word in string:\n",
    "    change_word = input(\"Enter your word u want to change with{word} :- \")\n",
    "    print(f\"The string after changing the word :--{string.replace(word, change_word)}\")\n",
    "else:\n",
    "    print(\"Your word is not in  string\")\n",
    "\n",
    "\n"
   ]
  },
  {
   "cell_type": "code",
   "execution_count": 2,
   "id": "a2d95c2d",
   "metadata": {},
   "outputs": [
    {
     "name": "stdout",
     "output_type": "stream",
     "text": [
      "Enter your string :- hi aabhiaa shek the aa\n",
      "Enter your occurance numbera\n",
      "6\n"
     ]
    }
   ],
   "source": [
    "#11. Count the occurrences of a word in a string.\n",
    "string = input(\"Enter your string :- \")\n",
    "accu_word = input(\"Enter your occurance number: = \")\n",
    "count = 0\n",
    "for i in string:\n",
    "    if accu_word in i:\n",
    "        count += 1\n",
    "print(count)"
   ]
  },
  {
   "cell_type": "code",
   "execution_count": 9,
   "id": "add3a403",
   "metadata": {},
   "outputs": [
    {
     "name": "stdout",
     "output_type": "stream",
     "text": [
      "Enter your string :- kisdfhihfanfnia\n",
      "Enter your occurance number: = a\n",
      "9\n"
     ]
    }
   ],
   "source": [
    "#12. Find the first occurrence of a word in a string.\n",
    "string = input(\"Enter your string :- \")\n",
    "accu_word = input(\"Enter your occurance number: = \")\n",
    "index = -1 \n",
    "for i in range(len(string)):\n",
    "    if string[i] == accu_word:\n",
    "        index = i\n",
    "        break\n",
    "print(index)\n",
    "\n",
    "# we can also do this using the .find(charater) function"
   ]
  },
  {
   "cell_type": "code",
   "execution_count": 13,
   "id": "71e5a009",
   "metadata": {},
   "outputs": [
    {
     "name": "stdout",
     "output_type": "stream",
     "text": [
      "Enter your string :- jhfiandahj\n",
      "Enter your occurance number: = a\n",
      "7\n"
     ]
    }
   ],
   "source": [
    "#13. Find the last occurrence of a word in a string.\n",
    "string = input(\"Enter your string :- \")\n",
    "accu_word = input(\"Enter your occurance number: = \")\n",
    "print(string.rfind(accu_word))\n",
    "    "
   ]
  },
  {
   "cell_type": "code",
   "execution_count": 22,
   "id": "abf4e607",
   "metadata": {},
   "outputs": [
    {
     "name": "stdout",
     "output_type": "stream",
     "text": [
      "Enter your string :- hi my name is \n",
      "['h', 'i', 'm', 'y', 'n', 'a', 'm', 'e', 'i', 's']\n"
     ]
    }
   ],
   "source": [
    "#14. Split a string into a list of words.\n",
    "string = input(\"Enter your string :- \")\n",
    "li = []\n",
    "string1 = string.replace(\" \", \"\")\n",
    "for i in string1:\n",
    "    li.append(i)\n",
    "print(li)"
   ]
  },
  {
   "cell_type": "code",
   "execution_count": 33,
   "id": "841ce70e",
   "metadata": {},
   "outputs": [
    {
     "name": "stdout",
     "output_type": "stream",
     "text": [
      "abhi ram cita sham don raman\n"
     ]
    }
   ],
   "source": [
    "#15. Join a list of words into a string.\n",
    "li = ['abhi', 'ram', 'cita', 'sham', 'don', 'raman']\n",
    "join_str = \" \".join(li)\n",
    "print(join_str)"
   ]
  },
  {
   "cell_type": "code",
   "execution_count": 34,
   "id": "825769bf",
   "metadata": {},
   "outputs": [
    {
     "name": "stdout",
     "output_type": "stream",
     "text": [
      "Enter your stringhi my name is Abhishek\n"
     ]
    },
    {
     "data": {
      "text/plain": [
       "'hi_my_name_is_Abhishek'"
      ]
     },
     "execution_count": 34,
     "metadata": {},
     "output_type": "execute_result"
    }
   ],
   "source": [
    "#16. Convert a string where words are separated by spaces to one where words are separated by underscores.\n",
    "string = input(\"Enter your string\")\n",
    "string.replace(\" \", \"_\")"
   ]
  },
  {
   "cell_type": "code",
   "execution_count": 37,
   "id": "f87ca3a0",
   "metadata": {},
   "outputs": [
    {
     "name": "stdout",
     "output_type": "stream",
     "text": [
      "Enter your string :- hi my name is \n",
      "Enter your occurance number: = hi\n",
      "Yes the strig is start with hi\n"
     ]
    }
   ],
   "source": [
    "#17. Check if a string starts with a specific word or phrase.\n",
    "string = input(\"Enter your string :- \")\n",
    "specific_word = input(\"Enter your occurance number: = \")\n",
    "if string.startswith(specific_word):\n",
    "    print(\"Yes the string is start with\", specific_word)\n",
    "else:        \n",
    "    print(\"no the string is not start with\", specific_word)"
   ]
  },
  {
   "cell_type": "code",
   "execution_count": 40,
   "id": "2f96e59d",
   "metadata": {},
   "outputs": [
    {
     "name": "stdout",
     "output_type": "stream",
     "text": [
      "Enter your string :- ggi\n",
      "Enter your occurance number: = i\n",
      "Yes the string is end with i\n"
     ]
    }
   ],
   "source": [
    "#18. Check if a string ends with a specific word or phrase.\n",
    "string = input(\"Enter your string :- \")\n",
    "specific_word = input(\"Enter your occurance number: = \")\n",
    "if string.endswith(specific_word):\n",
    "    print(\"Yes the string is end with\", specific_word)\n",
    "else:        \n",
    "    print(\"no the string is not end with\", specific_word)"
   ]
  },
  {
   "cell_type": "code",
   "execution_count": 50,
   "id": "c5a7637e",
   "metadata": {},
   "outputs": [
    {
     "name": "stdout",
     "output_type": "stream",
     "text": [
      "Enter your string :- hbfv iuihdfis f\n"
     ]
    },
    {
     "data": {
      "text/plain": [
       "'Hbfv Iuihdfis F'"
      ]
     },
     "execution_count": 50,
     "metadata": {},
     "output_type": "execute_result"
    }
   ],
   "source": [
    "#19. Convert a string to title case (e.g., \"hello world\" to \"Hello World\").\n",
    "string = input(\"Enter your string :- \")\n",
    "string.title()"
   ]
  },
  {
   "cell_type": "code",
   "execution_count": 54,
   "id": "5bdaf3d9",
   "metadata": {},
   "outputs": [
    {
     "name": "stdout",
     "output_type": "stream",
     "text": [
      "Enter your string :- hi Abhisek how r u \n",
      "Abhisek\n"
     ]
    }
   ],
   "source": [
    "#20. Find the longest word in a string.\n",
    "string = input(\"Enter your string :- \")\n",
    "words = string.split()\n",
    "long_word = \"\"\n",
    "for i in words:\n",
    "    if len(i) > len(long_word):\n",
    "        long_word = i\n",
    "print(long_word)"
   ]
  },
  {
   "cell_type": "code",
   "execution_count": 55,
   "id": "ecf43f41",
   "metadata": {},
   "outputs": [
    {
     "name": "stdout",
     "output_type": "stream",
     "text": [
      "hi\n",
      "Abhisek\n",
      "how\n",
      "r\n",
      "u\n"
     ]
    }
   ],
   "source": []
  },
  {
   "cell_type": "code",
   "execution_count": null,
   "id": "fa384b86",
   "metadata": {},
   "outputs": [],
   "source": []
  }
 ],
 "metadata": {
  "kernelspec": {
   "display_name": "Python 3 (ipykernel)",
   "language": "python",
   "name": "python3"
  },
  "language_info": {
   "codemirror_mode": {
    "name": "ipython",
    "version": 3
   },
   "file_extension": ".py",
   "mimetype": "text/x-python",
   "name": "python",
   "nbconvert_exporter": "python",
   "pygments_lexer": "ipython3",
   "version": "3.11.5"
  }
 },
 "nbformat": 4,
 "nbformat_minor": 5
}
