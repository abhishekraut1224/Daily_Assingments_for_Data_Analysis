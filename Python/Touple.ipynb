{
 "cells": [
  {
   "cell_type": "code",
   "execution_count": 1,
   "id": "be33233c",
   "metadata": {},
   "outputs": [
    {
     "data": {
      "text/plain": [
       "(1, 2, 3, 4, 5, 6, 7, 8, 9, 10)"
      ]
     },
     "execution_count": 1,
     "metadata": {},
     "output_type": "execute_result"
    }
   ],
   "source": [
    "#1. Create a tuple with integers from 1 to 5.\n",
    "t = (1,2,3,4,5,6,7,8,9,10)\n",
    "t"
   ]
  },
  {
   "cell_type": "code",
   "execution_count": 3,
   "id": "e5826967",
   "metadata": {},
   "outputs": [
    {
     "data": {
      "text/plain": [
       "4"
      ]
     },
     "execution_count": 3,
     "metadata": {},
     "output_type": "execute_result"
    }
   ],
   "source": [
    "#2. Access the third element of a tuple.\n",
    "t = (1,2,3,4,5,6,7,8,9,10)\n",
    "t[3]"
   ]
  },
  {
   "cell_type": "code",
   "execution_count": 4,
   "id": "9e627545",
   "metadata": {},
   "outputs": [
    {
     "name": "stdout",
     "output_type": "stream",
     "text": [
      "10\n"
     ]
    }
   ],
   "source": [
    "#3. Find the length of a tuple without using the `len()` function.\n",
    "t = (1,2,3,4,5,6,7,8,9,10)\n",
    "count = 0\n",
    "for i in t:\n",
    "    count += 1\n",
    "print(count)"
   ]
  },
  {
   "cell_type": "code",
   "execution_count": 8,
   "id": "5366fe47",
   "metadata": {},
   "outputs": [
    {
     "data": {
      "text/plain": [
       "3"
      ]
     },
     "execution_count": 8,
     "metadata": {},
     "output_type": "execute_result"
    }
   ],
   "source": [
    "#4. Count the occurrences of an element in a tuple.\n",
    "t = (1,2,3,4,5,6,6,7,8,6,5,67,8,9,10)\n",
    "t.count(6)"
   ]
  },
  {
   "cell_type": "code",
   "execution_count": 12,
   "id": "51bfe80e",
   "metadata": {},
   "outputs": [
    {
     "name": "stdout",
     "output_type": "stream",
     "text": [
      "5\n"
     ]
    }
   ],
   "source": [
    "#5. Find the index of the first occurrence of an element in a tuple.\n",
    "t = (1,2,3,4,5,6,6,7,8,6,5,67,8,9,10)\n",
    "for i in t:\n",
    "    if i == 6:\n",
    "        break;\n",
    "print(t.index(i))"
   ]
  },
  {
   "cell_type": "code",
   "execution_count": 14,
   "id": "f212fd46",
   "metadata": {},
   "outputs": [
    {
     "name": "stdout",
     "output_type": "stream",
     "text": [
      "the number is present in t\n"
     ]
    }
   ],
   "source": [
    "#6. Check if an element exists in a tuple.\n",
    "t = (1,2,3,4,5,6,6,7,8,6,5,67,8,9,10)\n",
    "number = 5\n",
    "if number in t:\n",
    "    print(\"the number is present in t\")\n",
    "else:\n",
    "    print(\"number is not present in t\")"
   ]
  },
  {
   "cell_type": "code",
   "execution_count": 19,
   "id": "6ac7cca7",
   "metadata": {},
   "outputs": [
    {
     "data": {
      "text/plain": [
       "[1, 2, 3, 4, 5, 6, 6, 7, 8, 6, 5, 67, 8, 9, 10]"
      ]
     },
     "execution_count": 19,
     "metadata": {},
     "output_type": "execute_result"
    }
   ],
   "source": [
    "#7. Convert a tuple to a list.\n",
    "t = (1,2,3,4,5,6,6,7,8,6,5,67,8,9,10)\n",
    "list(t)"
   ]
  },
  {
   "cell_type": "code",
   "execution_count": 24,
   "id": "a369d757",
   "metadata": {},
   "outputs": [
    {
     "data": {
      "text/plain": [
       "tuple"
      ]
     },
     "execution_count": 24,
     "metadata": {},
     "output_type": "execute_result"
    }
   ],
   "source": [
    "#8. Convert a list to a tuple.\n",
    "li = [1,2,3,4,5,6]\n",
    "t = tuple(li)\n",
    "type(t)"
   ]
  },
  {
   "cell_type": "code",
   "execution_count": 27,
   "id": "4054c3ab",
   "metadata": {},
   "outputs": [
    {
     "name": "stdout",
     "output_type": "stream",
     "text": [
      "1 2 3 45 56\n"
     ]
    }
   ],
   "source": [
    "#9. Unpack the elements of a tuple into variables.\n",
    "t = (1,2,3,45,56)\n",
    "a,b,c,d,e = t\n",
    "print(f\"{a} {b} {c} {d} {e}\" )\n",
    "    \n",
    "    "
   ]
  },
  {
   "cell_type": "code",
   "execution_count": 30,
   "id": "0c06dd0f",
   "metadata": {},
   "outputs": [
    {
     "name": "stdout",
     "output_type": "stream",
     "text": [
      "(2, 4, 6, 8, 10)\n"
     ]
    },
    {
     "data": {
      "text/plain": [
       "tuple"
      ]
     },
     "execution_count": 30,
     "metadata": {},
     "output_type": "execute_result"
    }
   ],
   "source": [
    "#10. Create a tuple of even numbers from 1 to 10.\n",
    "li = []\n",
    "for i in range (1,11):\n",
    "    if i%2 == 0:\n",
    "        li.append(i)\n",
    "t = tuple(li)\n",
    "print(t)\n",
    "type(t)"
   ]
  },
  {
   "cell_type": "code",
   "execution_count": null,
   "id": "ad46a4e3",
   "metadata": {},
   "outputs": [],
   "source": []
  }
 ],
 "metadata": {
  "kernelspec": {
   "display_name": "Python 3 (ipykernel)",
   "language": "python",
   "name": "python3"
  },
  "language_info": {
   "codemirror_mode": {
    "name": "ipython",
    "version": 3
   },
   "file_extension": ".py",
   "mimetype": "text/x-python",
   "name": "python",
   "nbconvert_exporter": "python",
   "pygments_lexer": "ipython3",
   "version": "3.11.5"
  }
 },
 "nbformat": 4,
 "nbformat_minor": 5
}
