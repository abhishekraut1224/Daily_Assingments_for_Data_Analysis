{
 "cells": [
  {
   "cell_type": "code",
   "execution_count": 1,
   "id": "92adb246",
   "metadata": {},
   "outputs": [],
   "source": [
    "#1. Create a list with integers from 1 to 10.\n",
    "li = [1,2,3,4,5,6,7,8,9,10]"
   ]
  },
  {
   "cell_type": "code",
   "execution_count": 3,
   "id": "82359c14",
   "metadata": {},
   "outputs": [
    {
     "name": "stdout",
     "output_type": "stream",
     "text": [
      "4\n"
     ]
    }
   ],
   "source": [
    "#2. Find the length of a list without using the `len()` function.\n",
    "li = [1,2,3,4,5]\n",
    "count = 0\n",
    "for i in li:\n",
    "    count +=1\n",
    "print(count -1)"
   ]
  },
  {
   "cell_type": "code",
   "execution_count": 4,
   "id": "2fe55f1b",
   "metadata": {},
   "outputs": [
    {
     "name": "stdout",
     "output_type": "stream",
     "text": [
      "[1, 2, 3, 4, 5, 9]\n"
     ]
    }
   ],
   "source": [
    "#3. Append an element to the end of a list.\n",
    "li = [1,2,3,4,5]\n",
    "li.append(9)\n",
    "print(li)"
   ]
  },
  {
   "cell_type": "code",
   "execution_count": 19,
   "id": "6309d528",
   "metadata": {},
   "outputs": [
    {
     "name": "stdout",
     "output_type": "stream",
     "text": [
      "enter your index3\n",
      "enter your number22\n",
      "[1, 2, 3, 22, 4, 5]\n"
     ]
    }
   ],
   "source": [
    "#4. Insert an element at a specific index in a list.\n",
    "li = [1,2,3,4,5]\n",
    "n = int(input(\"enter your index\"))\n",
    "if n <= len(li):  \n",
    "    n1 = int(input(\"enter your number\"))\n",
    "    for i in li:\n",
    "        if i == li[n]:\n",
    "            li.insert(n, n1)\n",
    "    print(li)\n",
    "else:\n",
    "    print(\"The index you enterd is more than the lenth of the string\")"
   ]
  },
  {
   "cell_type": "code",
   "execution_count": 20,
   "id": "059eb6dc",
   "metadata": {},
   "outputs": [
    {
     "name": "stdout",
     "output_type": "stream",
     "text": [
      "List after removing element with value 3: [1, 2, 4, 5]\n"
     ]
    }
   ],
   "source": [
    "#5. Remove an element from a list by its value.\n",
    "my_list = [1, 2, 3, 4, 5]\n",
    "my_list.remove(3)\n",
    "\n",
    "print(\"List after removing element with value 3:\", my_list)"
   ]
  },
  {
   "cell_type": "code",
   "execution_count": 23,
   "id": "88390a90",
   "metadata": {},
   "outputs": [
    {
     "data": {
      "text/plain": [
       "[1, 2, 3, 5, 6]"
      ]
     },
     "execution_count": 23,
     "metadata": {},
     "output_type": "execute_result"
    }
   ],
   "source": [
    "#5. Remove an element from a list by its index.\n",
    "li = [1,2,3,4,5,6]\n",
    "li.pop(3)\n",
    "li"
   ]
  },
  {
   "cell_type": "code",
   "execution_count": 25,
   "id": "dc18ec43",
   "metadata": {},
   "outputs": [
    {
     "name": "stdout",
     "output_type": "stream",
     "text": [
      "Your element is not in the list \n"
     ]
    }
   ],
   "source": [
    "#6. Check if an element exists in a list.\n",
    "li = [1,2,3,4,5,6,7,8]\n",
    "element = 9\n",
    "if element in li:\n",
    "    print(f\"your element {element} is in list\")\n",
    "else:\n",
    "    print(\"Your element is not in the list \")"
   ]
  },
  {
   "cell_type": "code",
   "execution_count": 27,
   "id": "7d3a55a5",
   "metadata": {},
   "outputs": [
    {
     "name": "stdout",
     "output_type": "stream",
     "text": [
      "Index of the first occurrence of element 3: 2\n"
     ]
    }
   ],
   "source": [
    "#8. Find the index of the first occurrence of an element in a list.\n",
    "my_list = [1, 2, 3, 4, 5]\n",
    "\n",
    "index = my_list.index(3)\n",
    "\n",
    "print(\"Index of the first occurrence of element 3:\", index)"
   ]
  },
  {
   "cell_type": "code",
   "execution_count": 28,
   "id": "963d7c79",
   "metadata": {},
   "outputs": [
    {
     "name": "stdout",
     "output_type": "stream",
     "text": [
      "Occurrences of element 2 in the list: 3\n"
     ]
    }
   ],
   "source": [
    "# 9. Count the occurrences of an element in a list.\n",
    "my_list = [1, 2, 3, 4, 2, 2, 5]\n",
    "count = my_list.count(2)\n",
    "print(\"Occurrences of element 2 in the list:\", count)\n"
   ]
  },
  {
   "cell_type": "code",
   "execution_count": 30,
   "id": "773b2885",
   "metadata": {},
   "outputs": [
    {
     "name": "stdout",
     "output_type": "stream",
     "text": [
      "[5, 4, 3, 2, 1]\n"
     ]
    }
   ],
   "source": [
    "#10. Reverse the order of elements in a list.\n",
    "li = [1,2,3,4,5]\n",
    "li1 = []\n",
    "for i in li[::-1]:\n",
    "    li1.append(i)\n",
    "print(li1)\n",
    "    "
   ]
  },
  {
   "cell_type": "code",
   "execution_count": 3,
   "id": "2ca75505",
   "metadata": {},
   "outputs": [
    {
     "data": {
      "text/plain": [
       "[4, 4, 5, 5, 5, 6, 6, 7, 56]"
      ]
     },
     "execution_count": 3,
     "metadata": {},
     "output_type": "execute_result"
    }
   ],
   "source": [
    "#11. Sort a list in ascending order.\n",
    "li = [6,5,4,7,5,4,6,5,56]\n",
    "li.sort()\n",
    "li"
   ]
  },
  {
   "cell_type": "code",
   "execution_count": 6,
   "id": "58c08ffe",
   "metadata": {},
   "outputs": [
    {
     "data": {
      "text/plain": [
       "[56, 7, 6, 6, 5, 5, 5, 4, 4]"
      ]
     },
     "execution_count": 6,
     "metadata": {},
     "output_type": "execute_result"
    }
   ],
   "source": [
    "#12. Sort a list in descending order.\n",
    "li = [6,5,4,7,5,4,6,5,56]\n",
    "li.sort(reverse=True)\n",
    "li   \n",
    "        "
   ]
  },
  {
   "cell_type": "code",
   "execution_count": 10,
   "id": "86f1c1dc",
   "metadata": {},
   "outputs": [
    {
     "name": "stdout",
     "output_type": "stream",
     "text": [
      "[2, 4, 6, 8, 10, 12, 14, 16, 18]\n"
     ]
    }
   ],
   "source": [
    "#13.Create a list of even numbers from 1 to 20.\n",
    "even = []\n",
    "for i in range(1, 20):\n",
    "    if i%2 ==0:\n",
    "        even.append(i)\n",
    "print(even)"
   ]
  },
  {
   "cell_type": "code",
   "execution_count": 11,
   "id": "0c41de2b",
   "metadata": {},
   "outputs": [
    {
     "name": "stdout",
     "output_type": "stream",
     "text": [
      "[1, 3, 5, 7, 9, 11, 13, 15, 17, 19]\n"
     ]
    }
   ],
   "source": [
    "#14. Create a list of odd numbers from 1 to 20.\n",
    "odd = []\n",
    "for i in range(1, 20):\n",
    "    if i%2 !=0:\n",
    "        odd.append(i)\n",
    "print(odd)"
   ]
  },
  {
   "cell_type": "code",
   "execution_count": 15,
   "id": "eb576325",
   "metadata": {},
   "outputs": [
    {
     "data": {
      "text/plain": [
       "21"
      ]
     },
     "execution_count": 15,
     "metadata": {},
     "output_type": "execute_result"
    }
   ],
   "source": [
    "#15. Find the sum of all elements in a list.\n",
    "li = [1,2,3,4,5,6]\n",
    "sum(li)"
   ]
  },
  {
   "cell_type": "code",
   "execution_count": 16,
   "id": "5f8ede79",
   "metadata": {},
   "outputs": [
    {
     "data": {
      "text/plain": [
       "6"
      ]
     },
     "execution_count": 16,
     "metadata": {},
     "output_type": "execute_result"
    }
   ],
   "source": [
    "#16. Find the maximum value in a list.\n",
    "li = [1,2,3,4,5,6]\n",
    "max(li)"
   ]
  },
  {
   "cell_type": "code",
   "execution_count": 17,
   "id": "35f96d27",
   "metadata": {},
   "outputs": [
    {
     "data": {
      "text/plain": [
       "1"
      ]
     },
     "execution_count": 17,
     "metadata": {},
     "output_type": "execute_result"
    }
   ],
   "source": [
    "#17. Find the minimum value in a list.\n",
    "min(li)"
   ]
  },
  {
   "cell_type": "code",
   "execution_count": 19,
   "id": "88da8eda",
   "metadata": {},
   "outputs": [
    {
     "data": {
      "text/plain": [
       "[1, 4, 9, 16, 25, 36, 49, 64, 81, 100]"
      ]
     },
     "execution_count": 19,
     "metadata": {},
     "output_type": "execute_result"
    }
   ],
   "source": [
    "li = [1,2,3,4,5,6,7,8,9,10]\n",
    "li_sq = []\n",
    "for i in li:\n",
    "    li_sq.append(i**2)\n",
    "    \n",
    "li_sq\n",
    "    "
   ]
  },
  {
   "cell_type": "code",
   "execution_count": 28,
   "id": "e27b43f7",
   "metadata": {},
   "outputs": [
    {
     "name": "stdout",
     "output_type": "stream",
     "text": [
      "Enter how many random numbers u want10\n"
     ]
    },
    {
     "data": {
      "text/plain": [
       "[4, 1, 10, 6, 8, 4, 3, 1, 2, 8]"
      ]
     },
     "execution_count": 28,
     "metadata": {},
     "output_type": "execute_result"
    }
   ],
   "source": [
    "#19. Create a list of random numbers.\n",
    "num = int(input(\"Enter how many random numbers u want\"))\n",
    "import random\n",
    "li = []\n",
    "for i in range(num):\n",
    "    random_num = random.randint(1,10)\n",
    "    li.append(random_num)\n",
    "\n",
    "li\n",
    "    "
   ]
  },
  {
   "cell_type": "code",
   "execution_count": 32,
   "id": "fe6c5969",
   "metadata": {},
   "outputs": [
    {
     "name": "stdout",
     "output_type": "stream",
     "text": [
      "after removing the duplicate values in the list  [1, 2, 3, 4, 5]\n"
     ]
    }
   ],
   "source": [
    "#20. Remove duplicates from a list.\n",
    "li = [1,2,2,3,4,5,3,3,4,5,3,4]\n",
    "unique_list = list(set(li))\n",
    "print(\"after removing the duplicate values in the list \", unique_list )   \n"
   ]
  },
  {
   "cell_type": "code",
   "execution_count": null,
   "id": "6532210e",
   "metadata": {},
   "outputs": [],
   "source": [
    "\n"
   ]
  }
 ],
 "metadata": {
  "kernelspec": {
   "display_name": "Python 3 (ipykernel)",
   "language": "python",
   "name": "python3"
  },
  "language_info": {
   "codemirror_mode": {
    "name": "ipython",
    "version": 3
   },
   "file_extension": ".py",
   "mimetype": "text/x-python",
   "name": "python",
   "nbconvert_exporter": "python",
   "pygments_lexer": "ipython3",
   "version": "3.11.5"
  }
 },
 "nbformat": 4,
 "nbformat_minor": 5
}
